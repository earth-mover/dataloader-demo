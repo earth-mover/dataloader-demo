{
 "cells": [
  {
   "cell_type": "code",
   "execution_count": null,
   "id": "18bfedd4-5296-4246-b380-43a5e8b4c284",
   "metadata": {},
   "outputs": [],
   "source": [
    "import matplotlib.pyplot as plt\n",
    "import json\n",
    "import numpy as np"
   ]
  },
  {
   "cell_type": "code",
   "execution_count": null,
   "id": "380f6b90-75e1-4f12-8489-e8f05adb4571",
   "metadata": {},
   "outputs": [],
   "source": [
    "def plot_log(fname):\n",
    "    with open(fname) as f:\n",
    "        lines = f.readlines()\n",
    "\n",
    "    messages = [json.loads(line.strip()) for line in lines]\n",
    "    # print(messages)\n",
    "    origin = messages[0][\"time\"]\n",
    "    assert messages[0][\"event\"] == \"run start\"\n",
    "\n",
    "    fig, ax = plt.subplots()\n",
    "\n",
    "    rows = {\"setup\": 3, \"get-batch\": 2, \"train\": 1, \"epoch\": 0}\n",
    "\n",
    "    ax.set_yticks(list(rows.values()), labels=list(rows))\n",
    "\n",
    "    data = {\"batches\": []}\n",
    "\n",
    "    for m in messages:\n",
    "        t = m[\"time\"] - origin\n",
    "\n",
    "        if m[\"event\"] == \"run start\":\n",
    "            ax.set_title(m[\"data_params\"])\n",
    "\n",
    "        if m[\"event\"] == \"setup end\":\n",
    "            ax.barh(\n",
    "                rows[\"setup\"], m[\"duration\"], left=t - m[\"duration\"], edgecolor=\"k\", color=\"#6D0EDB\"\n",
    "            )\n",
    "\n",
    "        if m[\"event\"] == \"get-batch end\":\n",
    "            ax.barh(\n",
    "                rows[\"get-batch\"],\n",
    "                m[\"duration\"],\n",
    "                left=t - m[\"duration\"],\n",
    "                alpha=0.3,\n",
    "                edgecolor=\"k\",\n",
    "                color=\"#C396F9\",\n",
    "            )\n",
    "            data[\"batches\"].append(m[\"duration\"])\n",
    "\n",
    "        if m[\"event\"] == \"training end\":\n",
    "            ax.barh(\n",
    "                rows[\"train\"], m[\"duration\"], left=t - m[\"duration\"], edgecolor=\"k\", color=\"#FF6554\"\n",
    "            )\n",
    "\n",
    "        if m[\"event\"] == \"epoch end\":\n",
    "            ax.barh(\n",
    "                rows[\"epoch\"], m[\"duration\"], left=t - m[\"duration\"], edgecolor=\"k\", color=\"#FF9E0D\"\n",
    "            )\n",
    "\n",
    "    print(\"average batch duration\", np.mean(data[\"batches\"]))"
   ]
  },
  {
   "cell_type": "code",
   "execution_count": null,
   "id": "3681d078-9e87-4112-a1a1-23a9b4bf36f8",
   "metadata": {},
   "outputs": [],
   "source": [
    "plot_log(\"logs/t0.txt\")"
   ]
  },
  {
   "cell_type": "code",
   "execution_count": null,
   "id": "5e9b6c39-2d5b-450c-863d-cde71d2b332c",
   "metadata": {},
   "outputs": [],
   "source": [
    "plot_log(\"logs/t1.txt\")"
   ]
  },
  {
   "cell_type": "code",
   "execution_count": null,
   "id": "ae379a41-d4d3-4654-a671-77451495d11a",
   "metadata": {},
   "outputs": [],
   "source": [
    "plot_log(\"logs/t2.txt\")"
   ]
  },
  {
   "cell_type": "code",
   "execution_count": null,
   "id": "959cf0ce-7cc9-4f94-adb2-826031b86d34",
   "metadata": {},
   "outputs": [],
   "source": [
    "plot_log(\"logs/t3.txt\")"
   ]
  },
  {
   "cell_type": "code",
   "execution_count": null,
   "id": "e3227b47-1ec9-43fb-b988-3235b2011d68",
   "metadata": {},
   "outputs": [],
   "source": [
    "plot_log(\"log5.txt\")"
   ]
  },
  {
   "cell_type": "code",
   "execution_count": null,
   "id": "7af94bb5-f994-44d4-bb47-9827368f2732",
   "metadata": {},
   "outputs": [],
   "source": [
    "plot_log(\"log6.txt\")"
   ]
  }
 ],
 "metadata": {
  "kernelspec": {
   "display_name": "Python 3 (ipykernel)",
   "language": "python",
   "name": "python3"
  },
  "language_info": {
   "codemirror_mode": {
    "name": "ipython",
    "version": 3
   },
   "file_extension": ".py",
   "mimetype": "text/x-python",
   "name": "python",
   "nbconvert_exporter": "python",
   "pygments_lexer": "ipython3",
   "version": "3.11.7"
  }
 },
 "nbformat": 4,
 "nbformat_minor": 5
}
